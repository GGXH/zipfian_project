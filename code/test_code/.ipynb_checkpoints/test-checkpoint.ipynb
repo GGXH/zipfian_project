{
 "metadata": {
  "name": ""
 },
 "nbformat": 3,
 "nbformat_minor": 0,
 "worksheets": [
  {
   "cells": [
    {
     "cell_type": "code",
     "collapsed": false,
     "input": [
      "cd ../../data/USD_JPY/2008/April/"
     ],
     "language": "python",
     "metadata": {},
     "outputs": [
      {
       "output_type": "stream",
       "stream": "stdout",
       "text": [
        "/Users/xinguo/zipfian/project/data/USD_JPY/2008/April\n"
       ]
      }
     ],
     "prompt_number": 2
    },
    {
     "cell_type": "code",
     "collapsed": false,
     "input": [
      "import pandas as pd\n",
      "import datetime\n",
      "import re\n",
      "import binascii\n",
      "import base64"
     ],
     "language": "python",
     "metadata": {},
     "outputs": [],
     "prompt_number": 110
    },
    {
     "cell_type": "code",
     "collapsed": false,
     "input": [
      "with open(\"USD_JPY_Week1.csv\", \"rb\") as f:\n",
      "    byte = f.read(200)\n",
      "    print byte\n",
      "    count = 0\n",
      "    while count < 10:\n",
      "        # Do stuff with byte.\n",
      "        byte = f.read(200)\n",
      "        print byte\n",
      "        count += 1"
     ],
     "language": "python",
     "metadata": {},
     "outputs": [
      {
       "output_type": "stream",
       "stream": "stdout",
       "text": [
        "\ufffd\ufffd3\u00009\u00000\u00007\u00001\u00003\u00007\u00004\u00008\u0000,\u0000U\u0000S\u0000D\u0000/\u0000J\u0000P\u0000Y\u0000,\u00002\u00000\u00000\u00008\u0000-\u00000\u00003\u0000-\u00003\u00000\u0000 \u00001\u00007\u0000:\u00000\u00000\u0000:\u00000\u00003\u0000.\u00000\u00000\u00000\u0000,\u00009\u00009\u0000.\u00001\u00003\u00000\u00000\u00000\u00000\u0000,\u00009\u00009\u0000.\u00001\u00007\u00000\u00000\u00000\u00000\u0000,\u0000D\u0000\r",
        "\u0000\n",
        "\u00003\u00009\u00000\u00007\u00001\u00003\u00007\u00008\u00003\u0000,\u0000U\u0000S\u0000D\u0000/\u0000J\u0000P\u0000Y\u0000,\u00002\u00000\u00000\u00008\u0000-\u00000\u00003\u0000-\u00003\u00000\u0000 \u00001\u00007\u0000:\u00000\u00000\u0000\n",
        ":\u00003\u00000\u0000.\u00000\u00000\u00000\u0000,\u00009\u00009\u0000.\u00001\u00004\u00000\u00000\u00000\u00000\u0000,\u00009\u00009\u0000.\u00001\u00008\u00000\u00000\u00000\u00000\u0000,\u0000D\u0000\r",
        "\u0000\n",
        "\u00003\u00009\u00000\u00007\u00001\u00003\u00007\u00008\u00008\u0000,\u0000U\u0000S\u0000D\u0000/\u0000J\u0000P\u0000Y\u0000,\u00002\u00000\u00000\u00008\u0000-\u00000\u00003\u0000-\u00003\u00000\u0000 \u00001\u00007\u0000:\u00000\u00000\u0000:\u00003\u00001\u0000.\u00000\u00000\u00000\u0000,\u00009\u00009\u0000.\u00001\u00003\u00000\u00000\u00000\u00000\u0000,\u00009\u00009\u0000.\u00001\u00007\u00000\u00000\u00000\u00000\u0000,\u0000D\u0000\r",
        "\u0000\n",
        "\u00003\u00009\u00000\u00007\u0000\n",
        "1\u00003\u00007\u00009\u00003\u0000,\u0000U\u0000S\u0000D\u0000/\u0000J\u0000P\u0000Y\u0000,\u00002\u00000\u00000\u00008\u0000-\u00000\u00003\u0000-\u00003\u00000\u0000 \u00001\u00007\u0000:\u00000\u00000\u0000:\u00003\u00007\u0000.\u00000\u00000\u00000\u0000,\u00009\u00009\u0000.\u00001\u00001\u00000\u00000\u00000\u00000\u0000,\u00009\u00009\u0000.\u00001\u00005\u00000\u00000\u00000\u00000\u0000,\u0000D\u0000\r",
        "\u0000\n",
        "\u00003\u00009\u00000\u00007\u00001\u00003\u00008\u00002\u00005\u0000,\u0000U\u0000S\u0000D\u0000/\u0000J\u0000P\u0000Y\u0000,\u00002\u00000\u00000\u00008\u0000-\u00000\u00003\u0000-\u00003\u00000\u0000 \u00001\u00007\u0000:\u00000\u00001\u0000:\u00003\u00002\u0000.\u00000\u0000\n",
        "0\u00000\u0000,\u00009\u00009\u0000.\u00000\u00008\u00000\u00000\u00000\u00000\u0000,\u00009\u00009\u0000.\u00001\u00002\u00000\u00000\u00000\u00000\u0000,\u0000D\u0000\r",
        "\u0000\n",
        "\u00003\u00009\u00000\u00007\u00001\u00003\u00008\u00003\u00006\u0000,\u0000U\u0000S\u0000D\u0000/\u0000J\u0000P\u0000Y\u0000,\u00002\u00000\u00000\u00008\u0000-\u00000\u00003\u0000-\u00003\u00000\u0000 \u00001\u00007\u0000:\u00000\u00001\u0000:\u00003\u00004\u0000.\u00000\u00000\u00000\u0000,\u00009\u00009\u0000.\u00000\u00007\u00000\u00000\u00000\u00000\u0000,\u00009\u00009\u0000.\u00001\u00001\u00000\u00000\u00000\u00000\u0000,\u0000D\u0000\r",
        "\u0000\n",
        "\u00003\u00009\u00000\u00007\u00001\u00003\u00008\u00004\u00003\u0000\n",
        ",\u0000U\u0000S\u0000D\u0000/\u0000J\u0000P\u0000Y\u0000,\u00002\u00000\u00000\u00008\u0000-\u00000\u00003\u0000-\u00003\u00000\u0000 \u00001\u00007\u0000:\u00000\u00001\u0000:\u00003\u00005\u0000.\u00000\u00000\u00000\u0000,\u00009\u00009\u0000.\u00000\u00008\u00000\u00000\u00000\u00000\u0000,\u00009\u00009\u0000.\u00001\u00002\u00000\u00000\u00000\u00000\u0000,\u0000D\u0000\r",
        "\u0000\n",
        "\u00003\u00009\u00000\u00007\u00001\u00003\u00008\u00005\u00001\u0000,\u0000U\u0000S\u0000D\u0000/\u0000J\u0000P\u0000Y\u0000,\u00002\u00000\u00000\u00008\u0000-\u00000\u00003\u0000-\u00003\u00000\u0000 \u00001\u00007\u0000:\u00000\u00001\u0000:\u00003\u00006\u0000.\u00000\u00000\u00000\u0000,\u00009\u00009\u0000\n",
        ".\u00001\u00001\u00000\u00000\u00000\u00000\u0000,\u00009\u00009\u0000.\u00001\u00005\u00000\u00000\u00000\u00000\u0000,\u0000D\u0000\r",
        "\u0000\n",
        "\u00003\u00009\u00000\u00007\u00001\u00003\u00008\u00005\u00008\u0000,\u0000U\u0000S\u0000D\u0000/\u0000J\u0000P\u0000Y\u0000,\u00002\u00000\u00000\u00008\u0000-\u00000\u00003\u0000-\u00003\u00000\u0000 \u00001\u00007\u0000:\u00000\u00001\u0000:\u00003\u00007\u0000.\u00000\u00000\u00000\u0000,\u00009\u00009\u0000.\u00001\u00000\u00000\u00000\u00000\u00000\u0000,\u00009\u00009\u0000.\u00001\u00004\u00000\u00000\u00000\u00000\u0000,\u0000D\u0000\r",
        "\u0000\n",
        "\u00003\u00009\u00000\u00007\u00001\u00003\u00008\u00006\u00001\u0000,\u0000U\u0000S\u0000D\u0000/\u0000\n",
        "J\u0000P\u0000Y\u0000,\u00002\u00000\u00000\u00008\u0000-\u00000\u00003\u0000-\u00003\u00000\u0000 \u00001\u00007\u0000:\u00000\u00001\u0000:\u00004\u00001\u0000.\u00000\u00000\u00000\u0000,\u00009\u00009\u0000.\u00001\u00001\u00000\u00000\u00000\u00000\u0000,\u00009\u00009\u0000.\u00001\u00005\u00000\u00000\u00000\u00000\u0000,\u0000D\u0000\r",
        "\u0000\n",
        "\u00003\u00009\u00000\u00007\u00001\u00003\u00008\u00006\u00005\u0000,\u0000U\u0000S\u0000D\u0000/\u0000J\u0000P\u0000Y\u0000,\u00002\u00000\u00000\u00008\u0000-\u00000\u00003\u0000-\u00003\u00000\u0000 \u00001\u00007\u0000:\u00000\u00001\u0000:\u00004\u00003\u0000.\u00000\u00000\u00000\u0000,\u00009\u00009\u0000.\u00000\u00007\u00000\u00000\u0000\n",
        "0\u00000\u0000,\u00009\u00009\u0000.\u00001\u00001\u00000\u00000\u00000\u00000\u0000,\u0000D\u0000\r",
        "\u0000\n",
        "\u00003\u00009\u00000\u00007\u00001\u00003\u00008\u00007\u00002\u0000,\u0000U\u0000S\u0000D\u0000/\u0000J\u0000P\u0000Y\u0000,\u00002\u00000\u00000\u00008\u0000-\u00000\u00003\u0000-\u00003\u00000\u0000 \u00001\u00007\u0000:\u00000\u00001\u0000:\u00004\u00005\u0000.\u00000\u00000\u00000\u0000,\u00009\u00009\u0000.\u00000\u00008\u00000\u00000\u00000\u00000\u0000,\u00009\u00009\u0000.\u00001\u00002\u00000\u00000\u00000\u00000\u0000,\u0000D\u0000\r",
        "\u0000\n",
        "\u00003\u00009\u00000\u00007\u00001\u00003\u00008\u00007\u00007\u0000,\u0000U\u0000S\u0000D\u0000/\u0000J\u0000P\u0000Y\u0000,\u00002\u0000\n",
        "0\u00000\u00008\u0000-\u00000\u00003\u0000-\u00003\u00000\u0000 \u00001\u00007\u0000:\u00000\u00001\u0000:\u00005\u00007\u0000.\u00000\u00000\u00000\u0000,\u00009\u00009\u0000.\u00000\u00009\u00000\u00000\u00000\u00000\u0000,\u00009\u00009\u0000.\u00001\u00003\u00000\u00000\u00000\u00000\u0000,\u0000D\u0000\r",
        "\u0000\n",
        "\u00003\u00009\u00000\u00007\u00001\u00003\u00008\u00009\u00006\u0000,\u0000U\u0000S\u0000D\u0000/\u0000J\u0000P\u0000Y\u0000,\u00002\u00000\u00000\u00008\u0000-\u00000\u00003\u0000-\u00003\u00000\u0000 \u00001\u00007\u0000:\u00000\u00002\u0000:\u00000\u00001\u0000.\u00000\u00000\u00000\u0000,\u00009\u00009\u0000.\u00000\u00008\u00000\u00000\u00000\u00000\u0000,\u00009\u00009\u0000\n",
        ".\u00001\u00002\u00000\u00000\u00000\u00000\u0000,\u0000D\u0000\r",
        "\u0000\n",
        "\u00003\u00009\u00000\u00007\u00001\u00003\u00009\u00001\u00004\u0000,\u0000U\u0000S\u0000D\u0000/\u0000J\u0000P\u0000Y\u0000,\u00002\u00000\u00000\u00008\u0000-\u00000\u00003\u0000-\u00003\u00000\u0000 \u00001\u00007\u0000:\u00000\u00002\u0000:\u00000\u00004\u0000.\u00000\u00000\u00000\u0000,\u00009\u00009\u0000.\u00000\u00007\u00000\u00000\u00000\u00000\u0000,\u00009\u00009\u0000.\u00001\u00001\u00000\u00000\u00000\u00000\u0000,\u0000D\u0000\r",
        "\u0000\n",
        "\u00003\u00009\u00000\u00007\u00001\u00003\u00009\u00003\u00009\u0000,\u0000U\u0000S\u0000D\u0000/\u0000J\u0000P\u0000Y\u0000,\u00002\u00000\u00000\u00008\u0000-\u00000\u0000\n",
        "3\u0000-\u00003\u00000\u0000 \u00001\u00007\u0000:\u00000\u00002\u0000:\u00001\u00005\u0000.\u00000\u00000\u00000\u0000,\u00009\u00009\u0000.\u00000\u00006\u00000\u00000\u00000\u00000\u0000,\u00009\u00009\u0000.\u00001\u00000\u00000\u00000\u00000\u00000\u0000,\u0000D\u0000\r",
        "\u0000\n",
        "\u00003\u00009\u00000\u00007\u00001\u00003\u00009\u00005\u00002\u0000,\u0000U\u0000S\u0000D\u0000/\u0000J\u0000P\u0000Y\u0000,\u00002\u00000\u00000\u00008\u0000-\u00000\u00003\u0000-\u00003\u00000\u0000 \u00001\u00007\u0000:\u00000\u00002\u0000:\u00003\u00005\u0000.\u00000\u00000\u00000\u0000,\u00009\u00009\u0000.\u00000\u00005\u00000\u00000\u00000\u00000\u0000,\u00009\u00009\u0000.\u00000\u00009\u00000\u00000\u0000\n"
       ]
      }
     ],
     "prompt_number": 13
    },
    {
     "cell_type": "code",
     "collapsed": false,
     "input": [
      "with open(\"USD_JPY_Week1.csv\", \"rb\") as f:\n",
      "    with open(\"test.csv\", 'w') as f_test:\n",
      "        byte = f.readline()\n",
      "        int_str = map(ord,byte)\n",
      "        result_string = \"\"\n",
      "        for item in ord_str:\n",
      "            if item != 0 and item != 255 and item != 254:\n",
      "                 result_string += chr(item)\n",
      "        print result_string\n",
      "        f_test.write(result_string)"
     ],
     "language": "python",
     "metadata": {},
     "outputs": [
      {
       "ename": "SyntaxError",
       "evalue": "invalid syntax (<ipython-input-127-a75084f937a1>, line 1)",
       "output_type": "pyerr",
       "traceback": [
        "\u001b[0;36m  File \u001b[0;32m\"<ipython-input-127-a75084f937a1>\"\u001b[0;36m, line \u001b[0;32m1\u001b[0m\n\u001b[0;31m    with open(\"USD_JPY_Week1.csv\", \"rb\") as f and open(\"test.csv\", 'w') as f_test:\u001b[0m\n\u001b[0m                                                ^\u001b[0m\n\u001b[0;31mSyntaxError\u001b[0m\u001b[0;31m:\u001b[0m invalid syntax\n"
       ]
      }
     ],
     "prompt_number": 127
    },
    {
     "cell_type": "code",
     "collapsed": false,
     "input": [
      "test_data = pd.read_csv('EUR_USD_Week1.csv')\n",
      "with open('EUR_USD_Week1.csv','r') as fl:\n",
      "    for line in fl:\n",
      "        print line.split(',')"
     ],
     "language": "python",
     "metadata": {},
     "outputs": [
      {
       "ename": "NameError",
       "evalue": "name 'pd' is not defined",
       "output_type": "pyerr",
       "traceback": [
        "\u001b[0;31m---------------------------------------------------------------------------\u001b[0m\n\u001b[0;31mNameError\u001b[0m                                 Traceback (most recent call last)",
        "\u001b[0;32m<ipython-input-10-a953b4f8c809>\u001b[0m in \u001b[0;36m<module>\u001b[0;34m()\u001b[0m\n\u001b[0;32m----> 1\u001b[0;31m \u001b[0mtest_data\u001b[0m \u001b[0;34m=\u001b[0m \u001b[0mpd\u001b[0m\u001b[0;34m.\u001b[0m\u001b[0mread_csv\u001b[0m\u001b[0;34m(\u001b[0m\u001b[0;34m'EUR_USD_Week1.csv'\u001b[0m\u001b[0;34m)\u001b[0m\u001b[0;34m\u001b[0m\u001b[0m\n\u001b[0m\u001b[1;32m      2\u001b[0m \u001b[0;32mwith\u001b[0m \u001b[0mopen\u001b[0m\u001b[0;34m(\u001b[0m\u001b[0;34m'EUR_USD_Week1.csv'\u001b[0m\u001b[0;34m,\u001b[0m\u001b[0;34m'r'\u001b[0m\u001b[0;34m)\u001b[0m \u001b[0;32mas\u001b[0m \u001b[0mfl\u001b[0m\u001b[0;34m:\u001b[0m\u001b[0;34m\u001b[0m\u001b[0m\n\u001b[1;32m      3\u001b[0m     \u001b[0;32mfor\u001b[0m \u001b[0mline\u001b[0m \u001b[0;32min\u001b[0m \u001b[0mfl\u001b[0m\u001b[0;34m:\u001b[0m\u001b[0;34m\u001b[0m\u001b[0m\n\u001b[1;32m      4\u001b[0m         \u001b[0;32mprint\u001b[0m \u001b[0mline\u001b[0m\u001b[0;34m.\u001b[0m\u001b[0msplit\u001b[0m\u001b[0;34m(\u001b[0m\u001b[0;34m','\u001b[0m\u001b[0;34m)\u001b[0m\u001b[0;34m\u001b[0m\u001b[0m\n",
        "\u001b[0;31mNameError\u001b[0m: name 'pd' is not defined"
       ]
      }
     ],
     "prompt_number": 10
    },
    {
     "cell_type": "code",
     "collapsed": false,
     "input": [
      "test_data.head()"
     ],
     "language": "python",
     "metadata": {},
     "outputs": [
      {
       "html": [
        "<div style=\"max-height:1000px;max-width:1500px;overflow:auto;\">\n",
        "<table border=\"1\" class=\"dataframe\">\n",
        "  <thead>\n",
        "    <tr style=\"text-align: right;\">\n",
        "      <th></th>\n",
        "      <th>lTid</th>\n",
        "      <th>cDealable</th>\n",
        "      <th>CurrencyPair</th>\n",
        "      <th>RateDateTime</th>\n",
        "      <th>RateBid</th>\n",
        "      <th>RateAsk</th>\n",
        "    </tr>\n",
        "  </thead>\n",
        "  <tbody>\n",
        "    <tr>\n",
        "      <th>0</th>\n",
        "      <td> 1029208677</td>\n",
        "      <td> D</td>\n",
        "      <td> EUR/USD</td>\n",
        "      <td> 2010-01-03 17:00:12</td>\n",
        "      <td> 1.4301</td>\n",
        "      <td> 1.4304</td>\n",
        "    </tr>\n",
        "    <tr>\n",
        "      <th>1</th>\n",
        "      <td> 1029208681</td>\n",
        "      <td> D</td>\n",
        "      <td> EUR/USD</td>\n",
        "      <td> 2010-01-03 17:00:21</td>\n",
        "      <td> 1.4302</td>\n",
        "      <td> 1.4305</td>\n",
        "    </tr>\n",
        "    <tr>\n",
        "      <th>2</th>\n",
        "      <td> 1029208691</td>\n",
        "      <td> D</td>\n",
        "      <td> EUR/USD</td>\n",
        "      <td> 2010-01-03 17:00:22</td>\n",
        "      <td> 1.4303</td>\n",
        "      <td> 1.4306</td>\n",
        "    </tr>\n",
        "    <tr>\n",
        "      <th>3</th>\n",
        "      <td> 1029208730</td>\n",
        "      <td> D</td>\n",
        "      <td> EUR/USD</td>\n",
        "      <td> 2010-01-03 17:00:33</td>\n",
        "      <td> 1.4304</td>\n",
        "      <td> 1.4307</td>\n",
        "    </tr>\n",
        "    <tr>\n",
        "      <th>4</th>\n",
        "      <td> 1029208787</td>\n",
        "      <td> D</td>\n",
        "      <td> EUR/USD</td>\n",
        "      <td> 2010-01-03 17:00:53</td>\n",
        "      <td> 1.4303</td>\n",
        "      <td> 1.4306</td>\n",
        "    </tr>\n",
        "  </tbody>\n",
        "</table>\n",
        "<p>5 rows \u00d7 6 columns</p>\n",
        "</div>"
       ],
       "metadata": {},
       "output_type": "pyout",
       "prompt_number": 16,
       "text": [
        "         lTid cDealable CurrencyPair         RateDateTime  RateBid  RateAsk\n",
        "0  1029208677         D      EUR/USD  2010-01-03 17:00:12   1.4301   1.4304\n",
        "1  1029208681         D      EUR/USD  2010-01-03 17:00:21   1.4302   1.4305\n",
        "2  1029208691         D      EUR/USD  2010-01-03 17:00:22   1.4303   1.4306\n",
        "3  1029208730         D      EUR/USD  2010-01-03 17:00:33   1.4304   1.4307\n",
        "4  1029208787         D      EUR/USD  2010-01-03 17:00:53   1.4303   1.4306\n",
        "\n",
        "[5 rows x 6 columns]"
       ]
      }
     ],
     "prompt_number": 16
    },
    {
     "cell_type": "code",
     "collapsed": false,
     "input": [
      "test_time = datetime.datetime.strptime(test_data.RateDateTime[0], '%Y-%m-%d %H:%M:%S')"
     ],
     "language": "python",
     "metadata": {},
     "outputs": [],
     "prompt_number": 29
    },
    {
     "cell_type": "code",
     "collapsed": false,
     "input": [
      "test_data.RateDateTime[0]"
     ],
     "language": "python",
     "metadata": {},
     "outputs": [
      {
       "metadata": {},
       "output_type": "pyout",
       "prompt_number": 21,
       "text": [
        "'2010-01-03 17:00:12'"
       ]
      }
     ],
     "prompt_number": 21
    },
    {
     "cell_type": "code",
     "collapsed": false,
     "input": [
      "c = re.compile('[0-9]+-[0-9]+-[0-9]+')\n",
      "c.search(test_data.RateDateTime[0])"
     ],
     "language": "python",
     "metadata": {},
     "outputs": [
      {
       "metadata": {},
       "output_type": "pyout",
       "prompt_number": 45,
       "text": [
        "<_sre.SRE_Match at 0x1075d7f38>"
       ]
      }
     ],
     "prompt_number": 45
    },
    {
     "cell_type": "code",
     "collapsed": false,
     "input": [
      "try re.search(c,test_data.lTid[0]):\n",
      "    print 'haha'"
     ],
     "language": "python",
     "metadata": {},
     "outputs": [
      {
       "ename": "SyntaxError",
       "evalue": "invalid syntax (<ipython-input-48-f3b75a3edcc3>, line 1)",
       "output_type": "pyerr",
       "traceback": [
        "\u001b[0;36m  File \u001b[0;32m\"<ipython-input-48-f3b75a3edcc3>\"\u001b[0;36m, line \u001b[0;32m1\u001b[0m\n\u001b[0;31m    try re.search(c,test_data.lTid[0]):\u001b[0m\n\u001b[0m         ^\u001b[0m\n\u001b[0;31mSyntaxError\u001b[0m\u001b[0;31m:\u001b[0m invalid syntax\n"
       ]
      }
     ],
     "prompt_number": 48
    },
    {
     "cell_type": "code",
     "collapsed": false,
     "input": [
      "try:\n",
      "    re.search(c,test_data.lTid[0])\n",
      "    print 'ahah'\n",
      "except:\n",
      "    print 'hhhh'"
     ],
     "language": "python",
     "metadata": {},
     "outputs": [
      {
       "output_type": "stream",
       "stream": "stdout",
       "text": [
        "hhhh\n"
       ]
      }
     ],
     "prompt_number": 49
    },
    {
     "cell_type": "code",
     "collapsed": false,
     "input": [
      "float(1)"
     ],
     "language": "python",
     "metadata": {},
     "outputs": [
      {
       "metadata": {},
       "output_type": "pyout",
       "prompt_number": 44,
       "text": [
        "1.0"
       ]
      }
     ],
     "prompt_number": 44
    },
    {
     "cell_type": "code",
     "collapsed": false,
     "input": [
      "print?"
     ],
     "language": "python",
     "metadata": {},
     "outputs": [
      {
       "output_type": "stream",
       "stream": "stdout",
       "text": [
        "Object `print` not found.\n"
       ]
      }
     ],
     "prompt_number": 72
    },
    {
     "cell_type": "code",
     "collapsed": false,
     "input": [],
     "language": "python",
     "metadata": {},
     "outputs": []
    }
   ],
   "metadata": {}
  }
 ]
}